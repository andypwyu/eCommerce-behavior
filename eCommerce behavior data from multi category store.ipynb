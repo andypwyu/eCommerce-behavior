{
 "cells": [
  {
   "cell_type": "markdown",
   "metadata": {},
   "source": [
    "# Will Customers Buy the Products in their Cart? "
   ]
  },
  {
   "cell_type": "code",
   "execution_count": 1,
   "metadata": {},
   "outputs": [],
   "source": [
    "import numpy as np\n",
    "import pandas as pd\n",
    "import matplotlib.pyplot as plt\n",
    "import squarify\n",
    "import matplotlib.dates as dates\n",
    "from datetime import datetime\n",
    "\n",
    "%matplotlib inline"
   ]
  },
  {
   "cell_type": "markdown",
   "metadata": {},
   "source": [
    "### Business Understanding\n",
    "\n",
    "Understanding what are the key drivers of customers’ buying behavior is always the holy grail for the eCommerce industry. The knowledge can be used to improve the shopping process and eventually result in higher sales and customer satisfaction.\n",
    "\n",
    "In this project, I will use eCommerce behavior data from a multi-category store from Kaggle, follow __CRISP-DM process__, and focus on three quesions below:\n",
    "\n",
    "Question 1: Daily traffic in November?\n",
    "\n",
    "Question 2: What product categories and brands are the most popular?\n",
    "\n",
    "Question 3: Will the customer purchases the products while adding them to the shopping cart?"
   ]
  },
  {
   "cell_type": "markdown",
   "metadata": {},
   "source": [
    "### Data Understanding"
   ]
  },
  {
   "cell_type": "markdown",
   "metadata": {},
   "source": [
    "Due to the data volume is huge and not able to upload, please download the data [2019-Nov.csv](https://www.kaggle.com/mkechinov/ecommerce-behavior-data-from-multi-category-store#2019-Nov.csv) from Kaggle."
   ]
  },
  {
   "cell_type": "code",
   "execution_count": 2,
   "metadata": {},
   "outputs": [
    {
     "data": {
      "text/html": [
       "<div>\n",
       "<style scoped>\n",
       "    .dataframe tbody tr th:only-of-type {\n",
       "        vertical-align: middle;\n",
       "    }\n",
       "\n",
       "    .dataframe tbody tr th {\n",
       "        vertical-align: top;\n",
       "    }\n",
       "\n",
       "    .dataframe thead th {\n",
       "        text-align: right;\n",
       "    }\n",
       "</style>\n",
       "<table border=\"1\" class=\"dataframe\">\n",
       "  <thead>\n",
       "    <tr style=\"text-align: right;\">\n",
       "      <th></th>\n",
       "      <th>event_time</th>\n",
       "      <th>event_type</th>\n",
       "      <th>product_id</th>\n",
       "      <th>category_id</th>\n",
       "      <th>category_code</th>\n",
       "      <th>brand</th>\n",
       "      <th>price</th>\n",
       "      <th>user_id</th>\n",
       "      <th>user_session</th>\n",
       "    </tr>\n",
       "  </thead>\n",
       "  <tbody>\n",
       "    <tr>\n",
       "      <td>0</td>\n",
       "      <td>2019-11-01 00:00:00 UTC</td>\n",
       "      <td>view</td>\n",
       "      <td>1003461</td>\n",
       "      <td>2053013555631882655</td>\n",
       "      <td>electronics.smartphone</td>\n",
       "      <td>xiaomi</td>\n",
       "      <td>489.07</td>\n",
       "      <td>520088904</td>\n",
       "      <td>4d3b30da-a5e4-49df-b1a8-ba5943f1dd33</td>\n",
       "    </tr>\n",
       "    <tr>\n",
       "      <td>1</td>\n",
       "      <td>2019-11-01 00:00:00 UTC</td>\n",
       "      <td>view</td>\n",
       "      <td>5000088</td>\n",
       "      <td>2053013566100866035</td>\n",
       "      <td>appliances.sewing_machine</td>\n",
       "      <td>janome</td>\n",
       "      <td>293.65</td>\n",
       "      <td>530496790</td>\n",
       "      <td>8e5f4f83-366c-4f70-860e-ca7417414283</td>\n",
       "    </tr>\n",
       "    <tr>\n",
       "      <td>2</td>\n",
       "      <td>2019-11-01 00:00:01 UTC</td>\n",
       "      <td>view</td>\n",
       "      <td>17302664</td>\n",
       "      <td>2053013553853497655</td>\n",
       "      <td>NaN</td>\n",
       "      <td>creed</td>\n",
       "      <td>28.31</td>\n",
       "      <td>561587266</td>\n",
       "      <td>755422e7-9040-477b-9bd2-6a6e8fd97387</td>\n",
       "    </tr>\n",
       "    <tr>\n",
       "      <td>3</td>\n",
       "      <td>2019-11-01 00:00:01 UTC</td>\n",
       "      <td>view</td>\n",
       "      <td>3601530</td>\n",
       "      <td>2053013563810775923</td>\n",
       "      <td>appliances.kitchen.washer</td>\n",
       "      <td>lg</td>\n",
       "      <td>712.87</td>\n",
       "      <td>518085591</td>\n",
       "      <td>3bfb58cd-7892-48cc-8020-2f17e6de6e7f</td>\n",
       "    </tr>\n",
       "    <tr>\n",
       "      <td>4</td>\n",
       "      <td>2019-11-01 00:00:01 UTC</td>\n",
       "      <td>view</td>\n",
       "      <td>1004775</td>\n",
       "      <td>2053013555631882655</td>\n",
       "      <td>electronics.smartphone</td>\n",
       "      <td>xiaomi</td>\n",
       "      <td>183.27</td>\n",
       "      <td>558856683</td>\n",
       "      <td>313628f1-68b8-460d-84f6-cec7a8796ef2</td>\n",
       "    </tr>\n",
       "  </tbody>\n",
       "</table>\n",
       "</div>"
      ],
      "text/plain": [
       "                event_time event_type  product_id          category_id  \\\n",
       "0  2019-11-01 00:00:00 UTC       view     1003461  2053013555631882655   \n",
       "1  2019-11-01 00:00:00 UTC       view     5000088  2053013566100866035   \n",
       "2  2019-11-01 00:00:01 UTC       view    17302664  2053013553853497655   \n",
       "3  2019-11-01 00:00:01 UTC       view     3601530  2053013563810775923   \n",
       "4  2019-11-01 00:00:01 UTC       view     1004775  2053013555631882655   \n",
       "\n",
       "               category_code   brand   price    user_id  \\\n",
       "0     electronics.smartphone  xiaomi  489.07  520088904   \n",
       "1  appliances.sewing_machine  janome  293.65  530496790   \n",
       "2                        NaN   creed   28.31  561587266   \n",
       "3  appliances.kitchen.washer      lg  712.87  518085591   \n",
       "4     electronics.smartphone  xiaomi  183.27  558856683   \n",
       "\n",
       "                           user_session  \n",
       "0  4d3b30da-a5e4-49df-b1a8-ba5943f1dd33  \n",
       "1  8e5f4f83-366c-4f70-860e-ca7417414283  \n",
       "2  755422e7-9040-477b-9bd2-6a6e8fd97387  \n",
       "3  3bfb58cd-7892-48cc-8020-2f17e6de6e7f  \n",
       "4  313628f1-68b8-460d-84f6-cec7a8796ef2  "
      ]
     },
     "execution_count": 2,
     "metadata": {},
     "output_type": "execute_result"
    }
   ],
   "source": [
    "data = pd.read_csv(\"2019-Nov.csv\")\n",
    "data.head()"
   ]
  },
  {
   "cell_type": "code",
   "execution_count": 3,
   "metadata": {},
   "outputs": [
    {
     "data": {
      "text/plain": [
       "(67501979, 9)"
      ]
     },
     "execution_count": 3,
     "metadata": {},
     "output_type": "execute_result"
    }
   ],
   "source": [
    "data.shape"
   ]
  },
  {
   "cell_type": "code",
   "execution_count": 4,
   "metadata": {},
   "outputs": [
    {
     "name": "stdout",
     "output_type": "stream",
     "text": [
      "<class 'pandas.core.frame.DataFrame'>\n",
      "RangeIndex: 67501979 entries, 0 to 67501978\n",
      "Data columns (total 9 columns):\n",
      "event_time       object\n",
      "event_type       object\n",
      "product_id       int64\n",
      "category_id      int64\n",
      "category_code    object\n",
      "brand            object\n",
      "price            float64\n",
      "user_id          int64\n",
      "user_session     object\n",
      "dtypes: float64(1), int64(3), object(5)\n",
      "memory usage: 4.5+ GB\n"
     ]
    }
   ],
   "source": [
    "data.info()"
   ]
  },
  {
   "cell_type": "code",
   "execution_count": 5,
   "metadata": {},
   "outputs": [
    {
     "data": {
      "text/plain": [
       "Index(['event_time', 'event_type', 'product_id', 'category_id',\n",
       "       'category_code', 'brand', 'price', 'user_id', 'user_session'],\n",
       "      dtype='object')"
      ]
     },
     "execution_count": 5,
     "metadata": {},
     "output_type": "execute_result"
    }
   ],
   "source": [
    "data.columns"
   ]
  },
  {
   "cell_type": "markdown",
   "metadata": {},
   "source": [
    "### Know your Customers"
   ]
  },
  {
   "cell_type": "markdown",
   "metadata": {},
   "source": [
    "How many customers visit the site?"
   ]
  },
  {
   "cell_type": "code",
   "execution_count": 6,
   "metadata": {},
   "outputs": [
    {
     "name": "stdout",
     "output_type": "stream",
     "text": [
      "visitors: 3696117\n"
     ]
    }
   ],
   "source": [
    "visitor = data['user_id'].nunique()\n",
    "print (\"visitors: {}\".format(visitor))"
   ]
  },
  {
   "cell_type": "markdown",
   "metadata": {},
   "source": [
    "### Vistors Daily Trend"
   ]
  },
  {
   "cell_type": "markdown",
   "metadata": {},
   "source": [
    "Does traffic flunctuate by date?"
   ]
  },
  {
   "cell_type": "code",
   "execution_count": 7,
   "metadata": {},
   "outputs": [],
   "source": [
    "def convert_time_to_date(utc_timestamp):    \n",
    "    '''covert utc timestamp string to date yyyy-mm-dd format in datetime object\n",
    "    \n",
    "    Parameters: \n",
    "        utc_timestamp (str): utc timestamp string is to be converted.\n",
    "    \n",
    "    Returns:\n",
    "        utc_date (datetime): datetime object for date in format yyyy-mm-dd\n",
    "    '''\n",
    "    \n",
    "    utc_date = datetime.strptime(utc_timestamp[0:10], '%Y-%m-%d').date()\n",
    "    return utc_date    "
   ]
  },
  {
   "cell_type": "code",
   "execution_count": 8,
   "metadata": {},
   "outputs": [],
   "source": [
    "# Due to the amount of data, datetime conversion takes a while....\n",
    "data['event_date'] = data['event_time'].apply(lambda s: convert_time_to_date(s))\n",
    "visitor_by_date = data[['event_date','user_id']].drop_duplicates().groupby(['event_date'])['user_id'].agg(['count']).sort_values(by=['event_date'], ascending=True)"
   ]
  },
  {
   "cell_type": "code",
   "execution_count": 10,
   "metadata": {},
   "outputs": [
    {
     "data": {
      "image/png": "[encoded data removed]",
      "text/plain": [
       "<Figure size 1440x576 with 1 Axes>"
      ]
     },
     "metadata": {
      "needs_background": "light"
     },
     "output_type": "display_data"
    }
   ],
   "source": [
    "x = pd.Series(visitor_by_date.index.values)\n",
    "y = visitor_by_date['count']\n",
    "plt.rcParams['figure.figsize'] = (20,8)\n",
    "\n",
    "plt.plot(x,y)\n",
    "plt.show()"
   ]
  },
  {
   "cell_type": "markdown",
   "metadata": {},
   "source": [
    "### Price Daily Trend"
   ]
  },
  {
   "cell_type": "code",
   "execution_count": 11,
   "metadata": {},
   "outputs": [
    {
     "data": {
      "text/html": [
       "<div>\n",
       "<style scoped>\n",
       "    .dataframe tbody tr th:only-of-type {\n",
       "        vertical-align: middle;\n",
       "    }\n",
       "\n",
       "    .dataframe tbody tr th {\n",
       "        vertical-align: top;\n",
       "    }\n",
       "\n",
       "    .dataframe thead th {\n",
       "        text-align: right;\n",
       "    }\n",
       "</style>\n",
       "<table border=\"1\" class=\"dataframe\">\n",
       "  <thead>\n",
       "    <tr style=\"text-align: right;\">\n",
       "      <th></th>\n",
       "      <th>category_code</th>\n",
       "      <th>brand</th>\n",
       "    </tr>\n",
       "  </thead>\n",
       "  <tbody>\n",
       "    <tr>\n",
       "      <td>0</td>\n",
       "      <td>electronics.smartphone</td>\n",
       "      <td>xiaomi</td>\n",
       "    </tr>\n",
       "  </tbody>\n",
       "</table>\n",
       "</div>"
      ],
      "text/plain": [
       "            category_code   brand\n",
       "0  electronics.smartphone  xiaomi"
      ]
     },
     "execution_count": 11,
     "metadata": {},
     "output_type": "execute_result"
    }
   ],
   "source": [
    "product_id = 1003461 # Enter product_id\n",
    "data[data['product_id'] == product_id][['category_code','brand']].head(1)"
   ]
  },
  {
   "cell_type": "code",
   "execution_count": 12,
   "metadata": {},
   "outputs": [],
   "source": [
    "product_daily_price = data.loc[data['product_id'] == product_id,['event_date','price']].groupby(['event_date']).mean()\n",
    "product_daily_price = data[['event_date','price']].groupby(['event_date']).mean()"
   ]
  },
  {
   "cell_type": "code",
   "execution_count": 13,
   "metadata": {},
   "outputs": [
    {
     "data": {
      "image/png": "[encoded data removed]",
      "text/plain": [
       "<Figure size 1440x576 with 1 Axes>"
      ]
     },
     "metadata": {
      "needs_background": "light"
     },
     "output_type": "display_data"
    }
   ],
   "source": [
    "x = pd.Series(product_daily_price.index.values)\n",
    "y = product_daily_price['price']\n",
    "plt.rcParams['figure.figsize'] = (20,8)\n",
    "\n",
    "plt.plot(x,y)\n",
    "plt.show()"
   ]
  },
  {
   "cell_type": "markdown",
   "metadata": {},
   "source": [
    "### By Category and Product "
   ]
  },
  {
   "cell_type": "markdown",
   "metadata": {},
   "source": [
    "Which category customers interact the most? What brand the view to most?"
   ]
  },
  {
   "cell_type": "code",
   "execution_count": 14,
   "metadata": {},
   "outputs": [
    {
     "data": {
      "image/png": "[encoded data removed]",
      "text/plain": [
       "<Figure size 1440x576 with 1 Axes>"
      ]
     },
     "metadata": {
      "needs_background": "light"
     },
     "output_type": "display_data"
    }
   ],
   "source": [
    "top_category_n = 30\n",
    "top_category = data['category_code'].value_counts()[:top_category_n].sort_values(ascending=False)\n",
    "df = pd.DataFrame({'count':top_category, 'top_category':top_category })\n",
    "\n",
    "squarify.plot(sizes=top_category, label=top_category.index.array, color=[\"red\",\"cyan\",\"green\",\"orange\",\"blue\",\"grey\"], alpha=.7  )\n",
    "plt.axis('off')\n",
    "plt.show()"
   ]
  },
  {
   "cell_type": "code",
   "execution_count": 15,
   "metadata": {},
   "outputs": [
    {
     "data": {
      "image/png": "[encoded data removed]",
      "text/plain": [
       "<Figure size 1440x576 with 1 Axes>"
      ]
     },
     "metadata": {
      "needs_background": "light"
     },
     "output_type": "display_data"
    }
   ],
   "source": [
    "top_brand_n = 30\n",
    "top_brand = data['brand'].value_counts()[:top_brand_n].sort_values(ascending=False)\n",
    "df = pd.DataFrame({'count':top_brand, 'top_category':top_brand.index.array })\n",
    "\n",
    "squarify.plot(sizes=top_brand, label=top_brand.index.array, color=[\"red\",\"cyan\",\"green\",\"orange\",\"blue\",\"grey\"], alpha=.7  )\n",
    "plt.axis('off')\n",
    "plt.show()"
   ]
  },
  {
   "cell_type": "markdown",
   "metadata": {},
   "source": [
    "### Purchase Behavior"
   ]
  },
  {
   "cell_type": "markdown",
   "metadata": {},
   "source": [
    "What's the distribution of eventype?"
   ]
  },
  {
   "cell_type": "code",
   "execution_count": 16,
   "metadata": {},
   "outputs": [
    {
     "data": {
      "text/plain": [
       "view        63556110\n",
       "cart         3028930\n",
       "purchase      916939\n",
       "Name: event_type, dtype: int64"
      ]
     },
     "execution_count": 16,
     "metadata": {},
     "output_type": "execute_result"
    }
   ],
   "source": [
    "data['event_type'].value_counts()"
   ]
  },
  {
   "cell_type": "code",
   "execution_count": 17,
   "metadata": {},
   "outputs": [
    {
     "data": {
      "image/png": "[encoded data removed]",
      "text/plain": [
       "<Figure size 576x576 with 1 Axes>"
      ]
     },
     "metadata": {},
     "output_type": "display_data"
    }
   ],
   "source": [
    "labels = ['view', 'cart','purchase']\n",
    "size = data['event_type'].value_counts()\n",
    "colors = ['yellowgreen', 'lightskyblue','lightcoral']\n",
    "explode = [0, 0.1,0.1]\n",
    "\n",
    "plt.rcParams['figure.figsize'] = (8, 8)\n",
    "plt.pie(size, colors = colors, explode = explode, labels = labels, shadow = True, autopct = '%.2f%%')\n",
    "plt.title('Event_Type', fontsize = 20)\n",
    "plt.axis('off')\n",
    "plt.legend()\n",
    "plt.show()"
   ]
  },
  {
   "cell_type": "markdown",
   "metadata": {},
   "source": [
    "#### event_type = \"purchase\", what item do customers buy?"
   ]
  },
  {
   "cell_type": "code",
   "execution_count": 18,
   "metadata": {
    "scrolled": true
   },
   "outputs": [
    {
     "data": {
      "text/html": [
       "<div>\n",
       "<style scoped>\n",
       "    .dataframe tbody tr th:only-of-type {\n",
       "        vertical-align: middle;\n",
       "    }\n",
       "\n",
       "    .dataframe tbody tr th {\n",
       "        vertical-align: top;\n",
       "    }\n",
       "\n",
       "    .dataframe thead th {\n",
       "        text-align: right;\n",
       "    }\n",
       "</style>\n",
       "<table border=\"1\" class=\"dataframe\">\n",
       "  <thead>\n",
       "    <tr style=\"text-align: right;\">\n",
       "      <th></th>\n",
       "      <th>event_time</th>\n",
       "      <th>event_type</th>\n",
       "      <th>product_id</th>\n",
       "      <th>category_id</th>\n",
       "      <th>category_code</th>\n",
       "      <th>brand</th>\n",
       "      <th>price</th>\n",
       "      <th>user_id</th>\n",
       "      <th>user_session</th>\n",
       "      <th>event_date</th>\n",
       "    </tr>\n",
       "  </thead>\n",
       "  <tbody>\n",
       "    <tr>\n",
       "      <td>168</td>\n",
       "      <td>2019-11-01 00:01:04 UTC</td>\n",
       "      <td>purchase</td>\n",
       "      <td>1005161</td>\n",
       "      <td>2053013555631882655</td>\n",
       "      <td>electronics.smartphone</td>\n",
       "      <td>xiaomi</td>\n",
       "      <td>211.92</td>\n",
       "      <td>513351129</td>\n",
       "      <td>e6b7ce9b-1938-4e20-976c-8b4163aea11d</td>\n",
       "      <td>2019-11-01</td>\n",
       "    </tr>\n",
       "    <tr>\n",
       "      <td>707</td>\n",
       "      <td>2019-11-01 00:04:51 UTC</td>\n",
       "      <td>purchase</td>\n",
       "      <td>1004856</td>\n",
       "      <td>2053013555631882655</td>\n",
       "      <td>electronics.smartphone</td>\n",
       "      <td>samsung</td>\n",
       "      <td>128.42</td>\n",
       "      <td>562958505</td>\n",
       "      <td>0f039697-fedc-40fa-8830-39c1a024351d</td>\n",
       "      <td>2019-11-01</td>\n",
       "    </tr>\n",
       "    <tr>\n",
       "      <td>939</td>\n",
       "      <td>2019-11-01 00:06:33 UTC</td>\n",
       "      <td>purchase</td>\n",
       "      <td>1801881</td>\n",
       "      <td>2053013554415534427</td>\n",
       "      <td>electronics.video.tv</td>\n",
       "      <td>samsung</td>\n",
       "      <td>488.80</td>\n",
       "      <td>557746614</td>\n",
       "      <td>4d76d6d3-fff5-4880-8327-e9e57b618e0e</td>\n",
       "      <td>2019-11-01</td>\n",
       "    </tr>\n",
       "    <tr>\n",
       "      <td>942</td>\n",
       "      <td>2019-11-01 00:06:34 UTC</td>\n",
       "      <td>purchase</td>\n",
       "      <td>5800823</td>\n",
       "      <td>2053013553945772349</td>\n",
       "      <td>electronics.audio.subwoofer</td>\n",
       "      <td>nakamichi</td>\n",
       "      <td>123.56</td>\n",
       "      <td>514166940</td>\n",
       "      <td>8ef5214a-86ad-4d0b-8df3-4280dd411b47</td>\n",
       "      <td>2019-11-01</td>\n",
       "    </tr>\n",
       "    <tr>\n",
       "      <td>1107</td>\n",
       "      <td>2019-11-01 00:07:38 UTC</td>\n",
       "      <td>purchase</td>\n",
       "      <td>30000218</td>\n",
       "      <td>2127425436764865054</td>\n",
       "      <td>construction.tools.welding</td>\n",
       "      <td>magnetta</td>\n",
       "      <td>254.78</td>\n",
       "      <td>515240495</td>\n",
       "      <td>0253151d-5c84-4809-ba02-38ac405494e1</td>\n",
       "      <td>2019-11-01</td>\n",
       "    </tr>\n",
       "    <tr>\n",
       "      <td>...</td>\n",
       "      <td>...</td>\n",
       "      <td>...</td>\n",
       "      <td>...</td>\n",
       "      <td>...</td>\n",
       "      <td>...</td>\n",
       "      <td>...</td>\n",
       "      <td>...</td>\n",
       "      <td>...</td>\n",
       "      <td>...</td>\n",
       "      <td>...</td>\n",
       "    </tr>\n",
       "    <tr>\n",
       "      <td>67501716</td>\n",
       "      <td>2019-11-30 23:58:08 UTC</td>\n",
       "      <td>purchase</td>\n",
       "      <td>1004767</td>\n",
       "      <td>2053013555631882655</td>\n",
       "      <td>electronics.smartphone</td>\n",
       "      <td>samsung</td>\n",
       "      <td>235.60</td>\n",
       "      <td>574868869</td>\n",
       "      <td>878a1538-ebe3-4d7f-b773-1b057b1971eb</td>\n",
       "      <td>2019-11-30</td>\n",
       "    </tr>\n",
       "    <tr>\n",
       "      <td>67501725</td>\n",
       "      <td>2019-11-30 23:58:14 UTC</td>\n",
       "      <td>purchase</td>\n",
       "      <td>1004874</td>\n",
       "      <td>2053013555631882655</td>\n",
       "      <td>electronics.smartphone</td>\n",
       "      <td>samsung</td>\n",
       "      <td>346.70</td>\n",
       "      <td>547804983</td>\n",
       "      <td>717566cf-ef93-4078-ba8f-169a3ac9f1a0</td>\n",
       "      <td>2019-11-30</td>\n",
       "    </tr>\n",
       "    <tr>\n",
       "      <td>67501745</td>\n",
       "      <td>2019-11-30 23:58:22 UTC</td>\n",
       "      <td>purchase</td>\n",
       "      <td>1005130</td>\n",
       "      <td>2053013555631882655</td>\n",
       "      <td>electronics.smartphone</td>\n",
       "      <td>apple</td>\n",
       "      <td>1437.02</td>\n",
       "      <td>515582054</td>\n",
       "      <td>829c20b5-696e-4a8a-8a9f-171014a3ecbe</td>\n",
       "      <td>2019-11-30</td>\n",
       "    </tr>\n",
       "    <tr>\n",
       "      <td>67501824</td>\n",
       "      <td>2019-11-30 23:58:57 UTC</td>\n",
       "      <td>purchase</td>\n",
       "      <td>1004767</td>\n",
       "      <td>2053013555631882655</td>\n",
       "      <td>electronics.smartphone</td>\n",
       "      <td>samsung</td>\n",
       "      <td>235.60</td>\n",
       "      <td>579876821</td>\n",
       "      <td>ca50e291-43f3-4ca2-9e13-20ee6b8b25f0</td>\n",
       "      <td>2019-11-30</td>\n",
       "    </tr>\n",
       "    <tr>\n",
       "      <td>67501863</td>\n",
       "      <td>2019-11-30 23:59:15 UTC</td>\n",
       "      <td>purchase</td>\n",
       "      <td>3701309</td>\n",
       "      <td>2053013565983425517</td>\n",
       "      <td>appliances.environment.vacuum</td>\n",
       "      <td>polaris</td>\n",
       "      <td>89.32</td>\n",
       "      <td>543733099</td>\n",
       "      <td>a65116f4-ac53-4a41-ad68-6606788e674c</td>\n",
       "      <td>2019-11-30</td>\n",
       "    </tr>\n",
       "  </tbody>\n",
       "</table>\n",
       "<p>659256 rows × 10 columns</p>\n",
       "</div>"
      ],
      "text/plain": [
       "                       event_time event_type  product_id          category_id  \\\n",
       "168       2019-11-01 00:01:04 UTC   purchase     1005161  2053013555631882655   \n",
       "707       2019-11-01 00:04:51 UTC   purchase     1004856  2053013555631882655   \n",
       "939       2019-11-01 00:06:33 UTC   purchase     1801881  2053013554415534427   \n",
       "942       2019-11-01 00:06:34 UTC   purchase     5800823  2053013553945772349   \n",
       "1107      2019-11-01 00:07:38 UTC   purchase    30000218  2127425436764865054   \n",
       "...                           ...        ...         ...                  ...   \n",
       "67501716  2019-11-30 23:58:08 UTC   purchase     1004767  2053013555631882655   \n",
       "67501725  2019-11-30 23:58:14 UTC   purchase     1004874  2053013555631882655   \n",
       "67501745  2019-11-30 23:58:22 UTC   purchase     1005130  2053013555631882655   \n",
       "67501824  2019-11-30 23:58:57 UTC   purchase     1004767  2053013555631882655   \n",
       "67501863  2019-11-30 23:59:15 UTC   purchase     3701309  2053013565983425517   \n",
       "\n",
       "                          category_code      brand    price    user_id  \\\n",
       "168              electronics.smartphone     xiaomi   211.92  513351129   \n",
       "707              electronics.smartphone    samsung   128.42  562958505   \n",
       "939                electronics.video.tv    samsung   488.80  557746614   \n",
       "942         electronics.audio.subwoofer  nakamichi   123.56  514166940   \n",
       "1107         construction.tools.welding   magnetta   254.78  515240495   \n",
       "...                                 ...        ...      ...        ...   \n",
       "67501716         electronics.smartphone    samsung   235.60  574868869   \n",
       "67501725         electronics.smartphone    samsung   346.70  547804983   \n",
       "67501745         electronics.smartphone      apple  1437.02  515582054   \n",
       "67501824         electronics.smartphone    samsung   235.60  579876821   \n",
       "67501863  appliances.environment.vacuum    polaris    89.32  543733099   \n",
       "\n",
       "                                  user_session  event_date  \n",
       "168       e6b7ce9b-1938-4e20-976c-8b4163aea11d  2019-11-01  \n",
       "707       0f039697-fedc-40fa-8830-39c1a024351d  2019-11-01  \n",
       "939       4d76d6d3-fff5-4880-8327-e9e57b618e0e  2019-11-01  \n",
       "942       8ef5214a-86ad-4d0b-8df3-4280dd411b47  2019-11-01  \n",
       "1107      0253151d-5c84-4809-ba02-38ac405494e1  2019-11-01  \n",
       "...                                        ...         ...  \n",
       "67501716  878a1538-ebe3-4d7f-b773-1b057b1971eb  2019-11-30  \n",
       "67501725  717566cf-ef93-4078-ba8f-169a3ac9f1a0  2019-11-30  \n",
       "67501745  829c20b5-696e-4a8a-8a9f-171014a3ecbe  2019-11-30  \n",
       "67501824  ca50e291-43f3-4ca2-9e13-20ee6b8b25f0  2019-11-30  \n",
       "67501863  a65116f4-ac53-4a41-ad68-6606788e674c  2019-11-30  \n",
       "\n",
       "[659256 rows x 10 columns]"
      ]
     },
     "execution_count": 18,
     "metadata": {},
     "output_type": "execute_result"
    }
   ],
   "source": [
    "purchase = data.loc[data['event_type'] == 'purchase']\n",
    "purchase = purchase.dropna(axis='rows')\n",
    "purchase"
   ]
  },
  {
   "cell_type": "markdown",
   "metadata": {},
   "source": [
    "#### What brands the customers buy?"
   ]
  },
  {
   "cell_type": "code",
   "execution_count": 19,
   "metadata": {},
   "outputs": [
    {
     "data": {
      "text/html": [
       "<div>\n",
       "<style scoped>\n",
       "    .dataframe tbody tr th:only-of-type {\n",
       "        vertical-align: middle;\n",
       "    }\n",
       "\n",
       "    .dataframe tbody tr th {\n",
       "        vertical-align: top;\n",
       "    }\n",
       "\n",
       "    .dataframe thead th {\n",
       "        text-align: right;\n",
       "    }\n",
       "</style>\n",
       "<table border=\"1\" class=\"dataframe\">\n",
       "  <thead>\n",
       "    <tr style=\"text-align: right;\">\n",
       "      <th></th>\n",
       "      <th>count</th>\n",
       "    </tr>\n",
       "    <tr>\n",
       "      <th>brand</th>\n",
       "      <th></th>\n",
       "    </tr>\n",
       "  </thead>\n",
       "  <tbody>\n",
       "    <tr>\n",
       "      <td>samsung</td>\n",
       "      <td>198670</td>\n",
       "    </tr>\n",
       "    <tr>\n",
       "      <td>apple</td>\n",
       "      <td>165681</td>\n",
       "    </tr>\n",
       "    <tr>\n",
       "      <td>xiaomi</td>\n",
       "      <td>57909</td>\n",
       "    </tr>\n",
       "    <tr>\n",
       "      <td>huawei</td>\n",
       "      <td>23466</td>\n",
       "    </tr>\n",
       "    <tr>\n",
       "      <td>oppo</td>\n",
       "      <td>15080</td>\n",
       "    </tr>\n",
       "    <tr>\n",
       "      <td>lg</td>\n",
       "      <td>11828</td>\n",
       "    </tr>\n",
       "    <tr>\n",
       "      <td>artel</td>\n",
       "      <td>7269</td>\n",
       "    </tr>\n",
       "    <tr>\n",
       "      <td>lenovo</td>\n",
       "      <td>6546</td>\n",
       "    </tr>\n",
       "    <tr>\n",
       "      <td>acer</td>\n",
       "      <td>6402</td>\n",
       "    </tr>\n",
       "    <tr>\n",
       "      <td>bosch</td>\n",
       "      <td>5718</td>\n",
       "    </tr>\n",
       "    <tr>\n",
       "      <td>indesit</td>\n",
       "      <td>5187</td>\n",
       "    </tr>\n",
       "    <tr>\n",
       "      <td>respect</td>\n",
       "      <td>4557</td>\n",
       "    </tr>\n",
       "    <tr>\n",
       "      <td>hp</td>\n",
       "      <td>4002</td>\n",
       "    </tr>\n",
       "    <tr>\n",
       "      <td>midea</td>\n",
       "      <td>3984</td>\n",
       "    </tr>\n",
       "    <tr>\n",
       "      <td>elenberg</td>\n",
       "      <td>3944</td>\n",
       "    </tr>\n",
       "    <tr>\n",
       "      <td>haier</td>\n",
       "      <td>3826</td>\n",
       "    </tr>\n",
       "    <tr>\n",
       "      <td>beko</td>\n",
       "      <td>3813</td>\n",
       "    </tr>\n",
       "    <tr>\n",
       "      <td>casio</td>\n",
       "      <td>3477</td>\n",
       "    </tr>\n",
       "    <tr>\n",
       "      <td>tefal</td>\n",
       "      <td>3343</td>\n",
       "    </tr>\n",
       "    <tr>\n",
       "      <td>vitek</td>\n",
       "      <td>3095</td>\n",
       "    </tr>\n",
       "  </tbody>\n",
       "</table>\n",
       "</div>"
      ],
      "text/plain": [
       "           count\n",
       "brand           \n",
       "samsung   198670\n",
       "apple     165681\n",
       "xiaomi     57909\n",
       "huawei     23466\n",
       "oppo       15080\n",
       "lg         11828\n",
       "artel       7269\n",
       "lenovo      6546\n",
       "acer        6402\n",
       "bosch       5718\n",
       "indesit     5187\n",
       "respect     4557\n",
       "hp          4002\n",
       "midea       3984\n",
       "elenberg    3944\n",
       "haier       3826\n",
       "beko        3813\n",
       "casio       3477\n",
       "tefal       3343\n",
       "vitek       3095"
      ]
     },
     "execution_count": 19,
     "metadata": {},
     "output_type": "execute_result"
    }
   ],
   "source": [
    "top_sellers = purchase.groupby('brand')['brand'].agg(['count']).sort_values('count', ascending=False)\n",
    "top_sellers.head(20)"
   ]
  },
  {
   "cell_type": "markdown",
   "metadata": {},
   "source": [
    "### User Journey example, is it like typical funnel: view => cart => purchase ?"
   ]
  },
  {
   "cell_type": "code",
   "execution_count": 20,
   "metadata": {},
   "outputs": [
    {
     "data": {
      "text/html": [
       "<div>\n",
       "<style scoped>\n",
       "    .dataframe tbody tr th:only-of-type {\n",
       "        vertical-align: middle;\n",
       "    }\n",
       "\n",
       "    .dataframe tbody tr th {\n",
       "        vertical-align: top;\n",
       "    }\n",
       "\n",
       "    .dataframe thead th {\n",
       "        text-align: right;\n",
       "    }\n",
       "</style>\n",
       "<table border=\"1\" class=\"dataframe\">\n",
       "  <thead>\n",
       "    <tr style=\"text-align: right;\">\n",
       "      <th></th>\n",
       "      <th>event_time</th>\n",
       "      <th>event_type</th>\n",
       "      <th>product_id</th>\n",
       "      <th>category_id</th>\n",
       "      <th>category_code</th>\n",
       "      <th>brand</th>\n",
       "      <th>price</th>\n",
       "      <th>user_id</th>\n",
       "      <th>user_session</th>\n",
       "      <th>event_date</th>\n",
       "    </tr>\n",
       "  </thead>\n",
       "  <tbody>\n",
       "    <tr>\n",
       "      <td>49</td>\n",
       "      <td>2019-11-01 00:00:17 UTC</td>\n",
       "      <td>view</td>\n",
       "      <td>1005161</td>\n",
       "      <td>2053013555631882655</td>\n",
       "      <td>electronics.smartphone</td>\n",
       "      <td>xiaomi</td>\n",
       "      <td>211.92</td>\n",
       "      <td>513351129</td>\n",
       "      <td>e6b7ce9b-1938-4e20-976c-8b4163aea11d</td>\n",
       "      <td>2019-11-01</td>\n",
       "    </tr>\n",
       "    <tr>\n",
       "      <td>168</td>\n",
       "      <td>2019-11-01 00:01:04 UTC</td>\n",
       "      <td>purchase</td>\n",
       "      <td>1005161</td>\n",
       "      <td>2053013555631882655</td>\n",
       "      <td>electronics.smartphone</td>\n",
       "      <td>xiaomi</td>\n",
       "      <td>211.92</td>\n",
       "      <td>513351129</td>\n",
       "      <td>e6b7ce9b-1938-4e20-976c-8b4163aea11d</td>\n",
       "      <td>2019-11-01</td>\n",
       "    </tr>\n",
       "    <tr>\n",
       "      <td>281</td>\n",
       "      <td>2019-11-01 00:01:57 UTC</td>\n",
       "      <td>view</td>\n",
       "      <td>1005161</td>\n",
       "      <td>2053013555631882655</td>\n",
       "      <td>electronics.smartphone</td>\n",
       "      <td>xiaomi</td>\n",
       "      <td>211.92</td>\n",
       "      <td>513351129</td>\n",
       "      <td>d3ff456e-0537-4c72-b126-752dd3e135db</td>\n",
       "      <td>2019-11-01</td>\n",
       "    </tr>\n",
       "    <tr>\n",
       "      <td>57932963</td>\n",
       "      <td>2019-11-25 09:44:42 UTC</td>\n",
       "      <td>view</td>\n",
       "      <td>5100562</td>\n",
       "      <td>2053013553341792533</td>\n",
       "      <td>electronics.clocks</td>\n",
       "      <td>apple</td>\n",
       "      <td>334.60</td>\n",
       "      <td>513351129</td>\n",
       "      <td>ce2941e6-f108-4876-bb76-da3981eb92e9</td>\n",
       "      <td>2019-11-25</td>\n",
       "    </tr>\n",
       "    <tr>\n",
       "      <td>57933375</td>\n",
       "      <td>2019-11-25 09:44:57 UTC</td>\n",
       "      <td>cart</td>\n",
       "      <td>5100562</td>\n",
       "      <td>2053013553341792533</td>\n",
       "      <td>electronics.clocks</td>\n",
       "      <td>apple</td>\n",
       "      <td>334.60</td>\n",
       "      <td>513351129</td>\n",
       "      <td>ce2941e6-f108-4876-bb76-da3981eb92e9</td>\n",
       "      <td>2019-11-25</td>\n",
       "    </tr>\n",
       "    <tr>\n",
       "      <td>57933966</td>\n",
       "      <td>2019-11-25 09:45:21 UTC</td>\n",
       "      <td>view</td>\n",
       "      <td>5100562</td>\n",
       "      <td>2053013553341792533</td>\n",
       "      <td>electronics.clocks</td>\n",
       "      <td>apple</td>\n",
       "      <td>334.60</td>\n",
       "      <td>513351129</td>\n",
       "      <td>ce2941e6-f108-4876-bb76-da3981eb92e9</td>\n",
       "      <td>2019-11-25</td>\n",
       "    </tr>\n",
       "    <tr>\n",
       "      <td>57934030</td>\n",
       "      <td>2019-11-25 09:45:23 UTC</td>\n",
       "      <td>cart</td>\n",
       "      <td>5100562</td>\n",
       "      <td>2053013553341792533</td>\n",
       "      <td>electronics.clocks</td>\n",
       "      <td>apple</td>\n",
       "      <td>334.60</td>\n",
       "      <td>513351129</td>\n",
       "      <td>ce2941e6-f108-4876-bb76-da3981eb92e9</td>\n",
       "      <td>2019-11-25</td>\n",
       "    </tr>\n",
       "    <tr>\n",
       "      <td>57935200</td>\n",
       "      <td>2019-11-25 09:46:11 UTC</td>\n",
       "      <td>purchase</td>\n",
       "      <td>5100562</td>\n",
       "      <td>2053013553341792533</td>\n",
       "      <td>electronics.clocks</td>\n",
       "      <td>apple</td>\n",
       "      <td>334.60</td>\n",
       "      <td>513351129</td>\n",
       "      <td>ce2941e6-f108-4876-bb76-da3981eb92e9</td>\n",
       "      <td>2019-11-25</td>\n",
       "    </tr>\n",
       "    <tr>\n",
       "      <td>60185950</td>\n",
       "      <td>2019-11-26 16:05:24 UTC</td>\n",
       "      <td>view</td>\n",
       "      <td>5100562</td>\n",
       "      <td>2053013553341792533</td>\n",
       "      <td>electronics.clocks</td>\n",
       "      <td>apple</td>\n",
       "      <td>334.60</td>\n",
       "      <td>513351129</td>\n",
       "      <td>543b61ca-c953-469d-95c9-71aeb2480749</td>\n",
       "      <td>2019-11-26</td>\n",
       "    </tr>\n",
       "    <tr>\n",
       "      <td>60188988</td>\n",
       "      <td>2019-11-26 16:06:54 UTC</td>\n",
       "      <td>cart</td>\n",
       "      <td>5100562</td>\n",
       "      <td>2053013553341792533</td>\n",
       "      <td>electronics.clocks</td>\n",
       "      <td>apple</td>\n",
       "      <td>334.60</td>\n",
       "      <td>513351129</td>\n",
       "      <td>543b61ca-c953-469d-95c9-71aeb2480749</td>\n",
       "      <td>2019-11-26</td>\n",
       "    </tr>\n",
       "    <tr>\n",
       "      <td>60233557</td>\n",
       "      <td>2019-11-26 16:29:29 UTC</td>\n",
       "      <td>view</td>\n",
       "      <td>5100562</td>\n",
       "      <td>2053013553341792533</td>\n",
       "      <td>electronics.clocks</td>\n",
       "      <td>apple</td>\n",
       "      <td>334.60</td>\n",
       "      <td>513351129</td>\n",
       "      <td>543b61ca-c953-469d-95c9-71aeb2480749</td>\n",
       "      <td>2019-11-26</td>\n",
       "    </tr>\n",
       "    <tr>\n",
       "      <td>60240504</td>\n",
       "      <td>2019-11-26 16:33:06 UTC</td>\n",
       "      <td>view</td>\n",
       "      <td>1003317</td>\n",
       "      <td>2053013555631882655</td>\n",
       "      <td>electronics.smartphone</td>\n",
       "      <td>apple</td>\n",
       "      <td>978.15</td>\n",
       "      <td>513351129</td>\n",
       "      <td>543b61ca-c953-469d-95c9-71aeb2480749</td>\n",
       "      <td>2019-11-26</td>\n",
       "    </tr>\n",
       "  </tbody>\n",
       "</table>\n",
       "</div>"
      ],
      "text/plain": [
       "                       event_time event_type  product_id          category_id  \\\n",
       "49        2019-11-01 00:00:17 UTC       view     1005161  2053013555631882655   \n",
       "168       2019-11-01 00:01:04 UTC   purchase     1005161  2053013555631882655   \n",
       "281       2019-11-01 00:01:57 UTC       view     1005161  2053013555631882655   \n",
       "57932963  2019-11-25 09:44:42 UTC       view     5100562  2053013553341792533   \n",
       "57933375  2019-11-25 09:44:57 UTC       cart     5100562  2053013553341792533   \n",
       "57933966  2019-11-25 09:45:21 UTC       view     5100562  2053013553341792533   \n",
       "57934030  2019-11-25 09:45:23 UTC       cart     5100562  2053013553341792533   \n",
       "57935200  2019-11-25 09:46:11 UTC   purchase     5100562  2053013553341792533   \n",
       "60185950  2019-11-26 16:05:24 UTC       view     5100562  2053013553341792533   \n",
       "60188988  2019-11-26 16:06:54 UTC       cart     5100562  2053013553341792533   \n",
       "60233557  2019-11-26 16:29:29 UTC       view     5100562  2053013553341792533   \n",
       "60240504  2019-11-26 16:33:06 UTC       view     1003317  2053013555631882655   \n",
       "\n",
       "                   category_code   brand   price    user_id  \\\n",
       "49        electronics.smartphone  xiaomi  211.92  513351129   \n",
       "168       electronics.smartphone  xiaomi  211.92  513351129   \n",
       "281       electronics.smartphone  xiaomi  211.92  513351129   \n",
       "57932963      electronics.clocks   apple  334.60  513351129   \n",
       "57933375      electronics.clocks   apple  334.60  513351129   \n",
       "57933966      electronics.clocks   apple  334.60  513351129   \n",
       "57934030      electronics.clocks   apple  334.60  513351129   \n",
       "57935200      electronics.clocks   apple  334.60  513351129   \n",
       "60185950      electronics.clocks   apple  334.60  513351129   \n",
       "60188988      electronics.clocks   apple  334.60  513351129   \n",
       "60233557      electronics.clocks   apple  334.60  513351129   \n",
       "60240504  electronics.smartphone   apple  978.15  513351129   \n",
       "\n",
       "                                  user_session  event_date  \n",
       "49        e6b7ce9b-1938-4e20-976c-8b4163aea11d  2019-11-01  \n",
       "168       e6b7ce9b-1938-4e20-976c-8b4163aea11d  2019-11-01  \n",
       "281       d3ff456e-0537-4c72-b126-752dd3e135db  2019-11-01  \n",
       "57932963  ce2941e6-f108-4876-bb76-da3981eb92e9  2019-11-25  \n",
       "57933375  ce2941e6-f108-4876-bb76-da3981eb92e9  2019-11-25  \n",
       "57933966  ce2941e6-f108-4876-bb76-da3981eb92e9  2019-11-25  \n",
       "57934030  ce2941e6-f108-4876-bb76-da3981eb92e9  2019-11-25  \n",
       "57935200  ce2941e6-f108-4876-bb76-da3981eb92e9  2019-11-25  \n",
       "60185950  543b61ca-c953-469d-95c9-71aeb2480749  2019-11-26  \n",
       "60188988  543b61ca-c953-469d-95c9-71aeb2480749  2019-11-26  \n",
       "60233557  543b61ca-c953-469d-95c9-71aeb2480749  2019-11-26  \n",
       "60240504  543b61ca-c953-469d-95c9-71aeb2480749  2019-11-26  "
      ]
     },
     "execution_count": 20,
     "metadata": {},
     "output_type": "execute_result"
    }
   ],
   "source": [
    "user_session = 513351129\n",
    "data.loc[data['user_id'] == user_session]"
   ]
  },
  {
   "cell_type": "markdown",
   "metadata": {},
   "source": [
    "## Predict at time of addition to shopping cart if user will purchase a given product?"
   ]
  },
  {
   "cell_type": "markdown",
   "metadata": {},
   "source": [
    "### Prepare Data and Feature engineering"
   ]
  },
  {
   "cell_type": "markdown",
   "metadata": {},
   "source": [
    "Restructure the data to fee in to machine learning model. For this use case, I only target the data which customers have \"put\" the product in the cart.\n",
    " \n",
    "Furthermore, I add some new features into training data set:\n",
    "\n",
    "* category_code_level1: category\n",
    "* category_code_level2: sub-category\n",
    "* event_weekday: weekday of the event\n",
    "* activity_count: number of activity in that session\n",
    "* is_purchased: whether the put in cart item is purchased\n",
    "\n",
    "Thus, the training data set contains every non-duplicated cart transaction (within the same session, I only keep one record for a particular product in the cart) with above mentioned new feature. I will use those features, including the original price and brand to predict whether customers will eventually purchase the item in the cart."
   ]
  },
  {
   "cell_type": "code",
   "execution_count": 21,
   "metadata": {},
   "outputs": [],
   "source": [
    "cart_purchase_users = data.loc[data[\"event_type\"].isin([\"cart\",\"purchase\"])].drop_duplicates(subset=['user_id'])\n",
    "cart_purchase_users.dropna(how='any', inplace=True)"
   ]
  },
  {
   "cell_type": "code",
   "execution_count": 22,
   "metadata": {},
   "outputs": [],
   "source": [
    "cart_purchase_users_all_activity = data.loc[data['user_id'].isin(cart_purchase_users['user_id'])]"
   ]
  },
  {
   "cell_type": "markdown",
   "metadata": {},
   "source": [
    "Prepare a dataframe for counting activity in the session"
   ]
  },
  {
   "cell_type": "code",
   "execution_count": 23,
   "metadata": {},
   "outputs": [],
   "source": [
    "activity_in_session = cart_purchase_users_all_activity.groupby(['user_session'])['event_type'].count().reset_index()\n",
    "activity_in_session = activity_in_session.rename(columns={\"event_type\": \"activity_count\"})"
   ]
  },
  {
   "cell_type": "code",
   "execution_count": 24,
   "metadata": {},
   "outputs": [],
   "source": [
    "df_targets = data.loc[data[\"event_type\"].isin([\"cart\",\"purchase\"])].drop_duplicates(subset=['event_type', 'product_id','price', 'user_id',\n",
    "'user_session'])\n",
    "df_targets[\"is_purchased\"] = np.where(df_targets[\"event_type\"]==\"purchase\",1,0)\n",
    "df_targets[\"is_purchased\"] = df_targets.groupby([\"user_session\",\"product_id\"])[\"is_purchased\"].transform(\"max\")\n",
    "df_targets = df_targets.loc[df_targets[\"event_type\"]==\"cart\"].drop_duplicates([\"user_session\",\"product_id\",\"is_purchased\"])\n",
    "df_targets['event_weekday'] = df_targets['event_date'].apply(lambda s: s.weekday())\n",
    "df_targets.dropna(how='any', inplace=True)\n",
    "df_targets[\"category_code_level1\"] = df_targets[\"category_code\"].str.split(\".\",expand=True)[0].astype('category')\n",
    "df_targets[\"category_code_level2\"] = df_targets[\"category_code\"].str.split(\".\",expand=True)[1].astype('category')"
   ]
  },
  {
   "cell_type": "code",
   "execution_count": 25,
   "metadata": {},
   "outputs": [
    {
     "data": {
      "text/html": [
       "<div>\n",
       "<style scoped>\n",
       "    .dataframe tbody tr th:only-of-type {\n",
       "        vertical-align: middle;\n",
       "    }\n",
       "\n",
       "    .dataframe tbody tr th {\n",
       "        vertical-align: top;\n",
       "    }\n",
       "\n",
       "    .dataframe thead th {\n",
       "        text-align: right;\n",
       "    }\n",
       "</style>\n",
       "<table border=\"1\" class=\"dataframe\">\n",
       "  <thead>\n",
       "    <tr style=\"text-align: right;\">\n",
       "      <th></th>\n",
       "      <th>event_time</th>\n",
       "      <th>event_type</th>\n",
       "      <th>product_id</th>\n",
       "      <th>category_id</th>\n",
       "      <th>category_code</th>\n",
       "      <th>brand</th>\n",
       "      <th>price</th>\n",
       "      <th>user_id</th>\n",
       "      <th>user_session</th>\n",
       "      <th>event_date</th>\n",
       "      <th>is_purchased</th>\n",
       "      <th>event_weekday</th>\n",
       "      <th>category_code_level1</th>\n",
       "      <th>category_code_level2</th>\n",
       "      <th>activity_count</th>\n",
       "    </tr>\n",
       "  </thead>\n",
       "  <tbody>\n",
       "    <tr>\n",
       "      <td>0</td>\n",
       "      <td>2019-11-01 00:00:14 UTC</td>\n",
       "      <td>cart</td>\n",
       "      <td>1005014</td>\n",
       "      <td>2053013555631882655</td>\n",
       "      <td>electronics.smartphone</td>\n",
       "      <td>samsung</td>\n",
       "      <td>503.09</td>\n",
       "      <td>533326659</td>\n",
       "      <td>6b928be2-2bce-4640-8296-0efdf2fda22a</td>\n",
       "      <td>2019-11-01</td>\n",
       "      <td>0.0</td>\n",
       "      <td>4</td>\n",
       "      <td>electronics</td>\n",
       "      <td>smartphone</td>\n",
       "      <td>1.0</td>\n",
       "    </tr>\n",
       "    <tr>\n",
       "      <td>1</td>\n",
       "      <td>2019-11-01 00:03:24 UTC</td>\n",
       "      <td>cart</td>\n",
       "      <td>1801881</td>\n",
       "      <td>2053013554415534427</td>\n",
       "      <td>electronics.video.tv</td>\n",
       "      <td>samsung</td>\n",
       "      <td>488.80</td>\n",
       "      <td>557746614</td>\n",
       "      <td>4d76d6d3-fff5-4880-8327-e9e57b618e0e</td>\n",
       "      <td>2019-11-01</td>\n",
       "      <td>1.0</td>\n",
       "      <td>4</td>\n",
       "      <td>electronics</td>\n",
       "      <td>video</td>\n",
       "      <td>25.0</td>\n",
       "    </tr>\n",
       "    <tr>\n",
       "      <td>2</td>\n",
       "      <td>2019-11-01 00:03:39 UTC</td>\n",
       "      <td>cart</td>\n",
       "      <td>1005115</td>\n",
       "      <td>2053013555631882655</td>\n",
       "      <td>electronics.smartphone</td>\n",
       "      <td>apple</td>\n",
       "      <td>949.47</td>\n",
       "      <td>565865924</td>\n",
       "      <td>fd4bd6d4-bd14-4fdc-9aff-bd41a594f82e</td>\n",
       "      <td>2019-11-01</td>\n",
       "      <td>0.0</td>\n",
       "      <td>4</td>\n",
       "      <td>electronics</td>\n",
       "      <td>smartphone</td>\n",
       "      <td>2.0</td>\n",
       "    </tr>\n",
       "    <tr>\n",
       "      <td>3</td>\n",
       "      <td>2019-11-01 00:05:54 UTC</td>\n",
       "      <td>cart</td>\n",
       "      <td>1002542</td>\n",
       "      <td>2053013555631882655</td>\n",
       "      <td>electronics.smartphone</td>\n",
       "      <td>apple</td>\n",
       "      <td>486.80</td>\n",
       "      <td>549256216</td>\n",
       "      <td>dcbdc6e4-cd49-4ee8-95c5-e85f3c618fa1</td>\n",
       "      <td>2019-11-01</td>\n",
       "      <td>0.0</td>\n",
       "      <td>4</td>\n",
       "      <td>electronics</td>\n",
       "      <td>smartphone</td>\n",
       "      <td>14.0</td>\n",
       "    </tr>\n",
       "    <tr>\n",
       "      <td>4</td>\n",
       "      <td>2019-11-01 00:06:38 UTC</td>\n",
       "      <td>cart</td>\n",
       "      <td>1004856</td>\n",
       "      <td>2053013555631882655</td>\n",
       "      <td>electronics.smartphone</td>\n",
       "      <td>samsung</td>\n",
       "      <td>128.42</td>\n",
       "      <td>513645631</td>\n",
       "      <td>61ceaf50-820a-4858-9a68-bab804d47a22</td>\n",
       "      <td>2019-11-01</td>\n",
       "      <td>1.0</td>\n",
       "      <td>4</td>\n",
       "      <td>electronics</td>\n",
       "      <td>smartphone</td>\n",
       "      <td>9.0</td>\n",
       "    </tr>\n",
       "  </tbody>\n",
       "</table>\n",
       "</div>"
      ],
      "text/plain": [
       "                event_time event_type  product_id          category_id  \\\n",
       "0  2019-11-01 00:00:14 UTC       cart     1005014  2053013555631882655   \n",
       "1  2019-11-01 00:03:24 UTC       cart     1801881  2053013554415534427   \n",
       "2  2019-11-01 00:03:39 UTC       cart     1005115  2053013555631882655   \n",
       "3  2019-11-01 00:05:54 UTC       cart     1002542  2053013555631882655   \n",
       "4  2019-11-01 00:06:38 UTC       cart     1004856  2053013555631882655   \n",
       "\n",
       "            category_code    brand   price    user_id  \\\n",
       "0  electronics.smartphone  samsung  503.09  533326659   \n",
       "1    electronics.video.tv  samsung  488.80  557746614   \n",
       "2  electronics.smartphone    apple  949.47  565865924   \n",
       "3  electronics.smartphone    apple  486.80  549256216   \n",
       "4  electronics.smartphone  samsung  128.42  513645631   \n",
       "\n",
       "                           user_session  event_date  is_purchased  \\\n",
       "0  6b928be2-2bce-4640-8296-0efdf2fda22a  2019-11-01           0.0   \n",
       "1  4d76d6d3-fff5-4880-8327-e9e57b618e0e  2019-11-01           1.0   \n",
       "2  fd4bd6d4-bd14-4fdc-9aff-bd41a594f82e  2019-11-01           0.0   \n",
       "3  dcbdc6e4-cd49-4ee8-95c5-e85f3c618fa1  2019-11-01           0.0   \n",
       "4  61ceaf50-820a-4858-9a68-bab804d47a22  2019-11-01           1.0   \n",
       "\n",
       "   event_weekday category_code_level1 category_code_level2  activity_count  \n",
       "0              4          electronics           smartphone             1.0  \n",
       "1              4          electronics                video            25.0  \n",
       "2              4          electronics           smartphone             2.0  \n",
       "3              4          electronics           smartphone            14.0  \n",
       "4              4          electronics           smartphone             9.0  "
      ]
     },
     "execution_count": 25,
     "metadata": {},
     "output_type": "execute_result"
    }
   ],
   "source": [
    "df_targets = df_targets.merge(activity_in_session, on='user_session', how='left')\n",
    "df_targets['activity_count'] = df_targets['activity_count'].fillna(0)\n",
    "df_targets.head()"
   ]
  },
  {
   "cell_type": "code",
   "execution_count": 26,
   "metadata": {},
   "outputs": [
    {
     "name": "stdout",
     "output_type": "stream",
     "text": [
      "<class 'pandas.core.frame.DataFrame'>\n",
      "Int64Index: 1408569 entries, 0 to 1408568\n",
      "Data columns (total 15 columns):\n",
      "event_time              1408569 non-null object\n",
      "event_type              1408569 non-null object\n",
      "product_id              1408569 non-null int64\n",
      "category_id             1408569 non-null int64\n",
      "category_code           1408569 non-null object\n",
      "brand                   1408569 non-null object\n",
      "price                   1408569 non-null float64\n",
      "user_id                 1408569 non-null int64\n",
      "user_session            1408569 non-null object\n",
      "event_date              1408569 non-null object\n",
      "is_purchased            1408569 non-null float64\n",
      "event_weekday           1408569 non-null int64\n",
      "category_code_level1    1408569 non-null category\n",
      "category_code_level2    1408569 non-null category\n",
      "activity_count          1408569 non-null float64\n",
      "dtypes: category(2), float64(3), int64(4), object(6)\n",
      "memory usage: 153.1+ MB\n"
     ]
    }
   ],
   "source": [
    "df_targets.info()"
   ]
  },
  {
   "cell_type": "markdown",
   "metadata": {},
   "source": [
    "#### Save new data structure for modeling"
   ]
  },
  {
   "cell_type": "code",
   "execution_count": 27,
   "metadata": {},
   "outputs": [],
   "source": [
    "df_targets.to_csv('training_data.csv')\n",
    "df_targets = pd.read_csv('training_data.csv')"
   ]
  },
  {
   "cell_type": "code",
   "execution_count": 28,
   "metadata": {},
   "outputs": [],
   "source": [
    "from sklearn.preprocessing import LabelEncoder\n",
    "from sklearn.preprocessing import MinMaxScaler\n",
    "from sklearn.model_selection import train_test_split\n",
    "from xgboost import plot_importance\n",
    "from sklearn.utils import resample\n",
    "from sklearn import metrics"
   ]
  },
  {
   "cell_type": "markdown",
   "metadata": {},
   "source": [
    "#### Resampling training set to avoid the imbalance between two classes (purchase and not purchase)"
   ]
  },
  {
   "cell_type": "code",
   "execution_count": 29,
   "metadata": {},
   "outputs": [
    {
     "data": {
      "text/plain": [
       "522866"
      ]
     },
     "execution_count": 29,
     "metadata": {},
     "output_type": "execute_result"
    }
   ],
   "source": [
    "is_purcahase_set = df_targets[df_targets['is_purchased']== 1]\n",
    "is_purcahase_set.shape[0]"
   ]
  },
  {
   "cell_type": "code",
   "execution_count": 30,
   "metadata": {},
   "outputs": [
    {
     "data": {
      "text/plain": [
       "885703"
      ]
     },
     "execution_count": 30,
     "metadata": {},
     "output_type": "execute_result"
    }
   ],
   "source": [
    "not_purcahase_set = df_targets[df_targets['is_purchased']== 0]\n",
    "not_purcahase_set.shape[0]"
   ]
  },
  {
   "cell_type": "code",
   "execution_count": 31,
   "metadata": {},
   "outputs": [],
   "source": [
    "n_samples = 500000\n",
    "is_purchase_downsampled = resample(is_purcahase_set,\n",
    "                                replace = False, \n",
    "                                n_samples = n_samples,\n",
    "                                random_state = 27)\n",
    "not_purcahase_set_downsampled = resample(not_purcahase_set,\n",
    "                                replace = False,\n",
    "                                n_samples = n_samples,\n",
    "                                random_state = 27)"
   ]
  },
  {
   "cell_type": "code",
   "execution_count": 32,
   "metadata": {},
   "outputs": [
    {
     "data": {
      "text/plain": [
       "1.0    500000\n",
       "0.0    500000\n",
       "Name: is_purchased, dtype: int64"
      ]
     },
     "execution_count": 32,
     "metadata": {},
     "output_type": "execute_result"
    }
   ],
   "source": [
    "downsampled = pd.concat([is_purchase_downsampled, not_purcahase_set_downsampled])\n",
    "downsampled['is_purchased'].value_counts()"
   ]
  },
  {
   "cell_type": "code",
   "execution_count": 33,
   "metadata": {},
   "outputs": [],
   "source": [
    "features = downsampled[['brand', 'price', 'event_weekday', 'category_code_level1', 'category_code_level2', 'activity_count']]"
   ]
  },
  {
   "cell_type": "markdown",
   "metadata": {},
   "source": [
    "#### Encode categorical variables"
   ]
  },
  {
   "cell_type": "code",
   "execution_count": 35,
   "metadata": {},
   "outputs": [
    {
     "data": {
      "text/html": [
       "<div>\n",
       "<style scoped>\n",
       "    .dataframe tbody tr th:only-of-type {\n",
       "        vertical-align: middle;\n",
       "    }\n",
       "\n",
       "    .dataframe tbody tr th {\n",
       "        vertical-align: top;\n",
       "    }\n",
       "\n",
       "    .dataframe thead th {\n",
       "        text-align: right;\n",
       "    }\n",
       "</style>\n",
       "<table border=\"1\" class=\"dataframe\">\n",
       "  <thead>\n",
       "    <tr style=\"text-align: right;\">\n",
       "      <th></th>\n",
       "      <th>brand</th>\n",
       "      <th>price</th>\n",
       "      <th>event_weekday</th>\n",
       "      <th>category_code_level1</th>\n",
       "      <th>category_code_level2</th>\n",
       "      <th>activity_count</th>\n",
       "    </tr>\n",
       "  </thead>\n",
       "  <tbody>\n",
       "    <tr>\n",
       "      <td>235095</td>\n",
       "      <td>1042</td>\n",
       "      <td>95.24</td>\n",
       "      <td>1</td>\n",
       "      <td>1</td>\n",
       "      <td>35</td>\n",
       "      <td>9.0</td>\n",
       "    </tr>\n",
       "    <tr>\n",
       "      <td>1104998</td>\n",
       "      <td>4</td>\n",
       "      <td>1002.60</td>\n",
       "      <td>3</td>\n",
       "      <td>4</td>\n",
       "      <td>29</td>\n",
       "      <td>5.0</td>\n",
       "    </tr>\n",
       "    <tr>\n",
       "      <td>1268236</td>\n",
       "      <td>1088</td>\n",
       "      <td>168.69</td>\n",
       "      <td>2</td>\n",
       "      <td>7</td>\n",
       "      <td>40</td>\n",
       "      <td>20.0</td>\n",
       "    </tr>\n",
       "    <tr>\n",
       "      <td>103485</td>\n",
       "      <td>75</td>\n",
       "      <td>500.63</td>\n",
       "      <td>4</td>\n",
       "      <td>7</td>\n",
       "      <td>40</td>\n",
       "      <td>8.0</td>\n",
       "    </tr>\n",
       "    <tr>\n",
       "      <td>798825</td>\n",
       "      <td>1088</td>\n",
       "      <td>244.02</td>\n",
       "      <td>6</td>\n",
       "      <td>7</td>\n",
       "      <td>40</td>\n",
       "      <td>8.0</td>\n",
       "    </tr>\n",
       "  </tbody>\n",
       "</table>\n",
       "</div>"
      ],
      "text/plain": [
       "         brand    price  event_weekday  category_code_level1  \\\n",
       "235095    1042    95.24              1                     1   \n",
       "1104998      4  1002.60              3                     4   \n",
       "1268236   1088   168.69              2                     7   \n",
       "103485      75   500.63              4                     7   \n",
       "798825    1088   244.02              6                     7   \n",
       "\n",
       "         category_code_level2  activity_count  \n",
       "235095                     35             9.0  \n",
       "1104998                    29             5.0  \n",
       "1268236                    40            20.0  \n",
       "103485                     40             8.0  \n",
       "798825                     40             8.0  "
      ]
     },
     "execution_count": 35,
     "metadata": {},
     "output_type": "execute_result"
    }
   ],
   "source": [
    "features.loc[:,'brand'] = LabelEncoder().fit_transform(downsampled.loc[:,'brand'].copy())\n",
    "features.loc[:,'event_weekday'] = LabelEncoder().fit_transform(downsampled.loc[:,'event_weekday'].copy())\n",
    "features.loc[:,'category_code_level1'] = LabelEncoder().fit_transform(downsampled.loc[:,'category_code_level1'].copy())\n",
    "features.loc[:,'category_code_level2'] = LabelEncoder().fit_transform(downsampled.loc[:,'category_code_level2'].copy())\n",
    "\n",
    "is_purchased = LabelEncoder().fit_transform(downsampled['is_purchased'])\n",
    "features.head()"
   ]
  },
  {
   "cell_type": "code",
   "execution_count": 36,
   "metadata": {},
   "outputs": [
    {
     "name": "stdout",
     "output_type": "stream",
     "text": [
      "['brand', 'price', 'event_weekday', 'category_code_level1', 'category_code_level2', 'activity_count']\n"
     ]
    }
   ],
   "source": [
    "print(list(features.columns))"
   ]
  },
  {
   "cell_type": "markdown",
   "metadata": {},
   "source": [
    "### Data Modeling"
   ]
  },
  {
   "cell_type": "markdown",
   "metadata": {},
   "source": [
    "In this project, I am going to use XGB classifier. XGBoost is an implementation of gradient boosted decision trees with good performance. Since it's a tree-based algorithm, we don't have to create dummy variables for the categoricals. Creating dummy variables introduces sparsity, which is not favorable for tree-based approach. However, if we are going to use the distance-based algorithm like KNN or SVM, we need to create dummy variables for categorical values. Furthermore, we also need to normalize variables to prevent the algorithm from inequally considering the variable while computing the distance similarity.  \n",
    "\n",
    "Anothere reason to choose xgboost is because of its great performance, considering the amount of the data in this project. If we need to create dummy variables, the computation complexity increases dramatically, which might not favorable for quick exploration."
   ]
  },
  {
   "cell_type": "code",
   "execution_count": 37,
   "metadata": {},
   "outputs": [],
   "source": [
    "X_train, X_test, y_train, y_test = train_test_split(features, \n",
    "                                                    is_purchased, \n",
    "                                                    test_size = 0.3, \n",
    "                                                    random_state = 0)"
   ]
  },
  {
   "cell_type": "code",
   "execution_count": 38,
   "metadata": {},
   "outputs": [],
   "source": [
    "from xgboost import XGBClassifier\n",
    "model = XGBClassifier(learning_rate=0.1)\n",
    "model.fit(X_train, y_train)\n",
    "y_pred = model.predict(X_test)"
   ]
  },
  {
   "cell_type": "markdown",
   "metadata": {},
   "source": [
    "### Evaluate the Results and Measure Performance"
   ]
  },
  {
   "cell_type": "code",
   "execution_count": 39,
   "metadata": {},
   "outputs": [
    {
     "name": "stdout",
     "output_type": "stream",
     "text": [
      "Accuracy: 0.6802166666666667\n",
      "Precision: 0.6613659969198811\n",
      "Recall: 0.7386350757661616\n",
      "fbeta: 0.6807030912073982\n"
     ]
    }
   ],
   "source": [
    "print(\"Accuracy:\",metrics.accuracy_score(y_test, y_pred))\n",
    "print(\"Precision:\",metrics.precision_score(y_test, y_pred))\n",
    "print(\"Recall:\",metrics.recall_score(y_test, y_pred))\n",
    "print(\"fbeta:\",metrics.fbeta_score(y_test, y_pred, average='weighted', beta=0.5))"
   ]
  },
  {
   "cell_type": "markdown",
   "metadata": {},
   "source": [
    "#### Feature importance"
   ]
  },
  {
   "cell_type": "code",
   "execution_count": 40,
   "metadata": {},
   "outputs": [
    {
     "data": {
      "image/png": "[encoded data removed]",
      "text/plain": [
       "<Figure size 576x576 with 1 Axes>"
      ]
     },
     "metadata": {
      "needs_background": "light"
     },
     "output_type": "display_data"
    }
   ],
   "source": [
    "plot_importance(model, max_num_features=10, importance_type ='gain')\n",
    "plt.rcParams['figure.figsize'] = (40,10)\n",
    "plt.show()"
   ]
  }
 ],
 "metadata": {
  "kernelspec": {
   "display_name": "Python 3",
   "language": "python",
   "name": "python3"
  },
  "language_info": {
   "codemirror_mode": {
    "name": "ipython",
    "version": 3
   },
   "file_extension": ".py",
   "mimetype": "text/x-python",
   "name": "python",
   "nbconvert_exporter": "python",
   "pygments_lexer": "ipython3",
   "version": "3.7.4"
  }
 },
 "nbformat": 4,
 "nbformat_minor": 2
}
